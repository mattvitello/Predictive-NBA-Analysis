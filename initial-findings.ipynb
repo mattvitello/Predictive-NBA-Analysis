{
 "cells": [
  {
   "cell_type": "code",
   "execution_count": 9,
   "metadata": {
    "collapsed": true
   },
   "outputs": [],
   "source": [
    "import pandas as pd\n",
    "import matplotlib.pyplot as plt\n",
    "import seaborn as sns\n",
    "%matplotlib inline"
   ]
  },
  {
   "cell_type": "code",
   "execution_count": 3,
   "metadata": {
    "collapsed": true
   },
   "outputs": [],
   "source": [
    "df = pd.read_csv('team_stats.csv')"
   ]
  },
  {
   "cell_type": "code",
   "execution_count": 4,
   "metadata": {
    "scrolled": true
   },
   "outputs": [
    {
     "data": {
      "text/html": [
       "<div>\n",
       "<style>\n",
       "    .dataframe thead tr:only-child th {\n",
       "        text-align: right;\n",
       "    }\n",
       "\n",
       "    .dataframe thead th {\n",
       "        text-align: left;\n",
       "    }\n",
       "\n",
       "    .dataframe tbody tr th {\n",
       "        vertical-align: top;\n",
       "    }\n",
       "</style>\n",
       "<table border=\"1\" class=\"dataframe\">\n",
       "  <thead>\n",
       "    <tr style=\"text-align: right;\">\n",
       "      <th></th>\n",
       "      <th>id</th>\n",
       "      <th>match_id</th>\n",
       "      <th>team_id</th>\n",
       "      <th>FG</th>\n",
       "      <th>FGA</th>\n",
       "      <th>FGP</th>\n",
       "      <th>PTS</th>\n",
       "      <th>TWO</th>\n",
       "      <th>TWOA</th>\n",
       "      <th>TWOP</th>\n",
       "      <th>...</th>\n",
       "      <th>DRBP</th>\n",
       "      <th>TRBP</th>\n",
       "      <th>ASTP</th>\n",
       "      <th>STLP</th>\n",
       "      <th>BLKP</th>\n",
       "      <th>TOVP</th>\n",
       "      <th>USGP</th>\n",
       "      <th>ORtg</th>\n",
       "      <th>DRtg</th>\n",
       "      <th>PLUS_MINUS</th>\n",
       "    </tr>\n",
       "  </thead>\n",
       "  <tbody>\n",
       "    <tr>\n",
       "      <th>0</th>\n",
       "      <td>6992</td>\n",
       "      <td>2024</td>\n",
       "      <td>17</td>\n",
       "      <td>47</td>\n",
       "      <td>88</td>\n",
       "      <td>0.534091</td>\n",
       "      <td>120</td>\n",
       "      <td>36</td>\n",
       "      <td>64</td>\n",
       "      <td>0.562500</td>\n",
       "      <td>...</td>\n",
       "      <td>68.3</td>\n",
       "      <td>48.8</td>\n",
       "      <td>46.8</td>\n",
       "      <td>6.1</td>\n",
       "      <td>9.6</td>\n",
       "      <td>12.5</td>\n",
       "      <td>100</td>\n",
       "      <td>121.4</td>\n",
       "      <td>130.5</td>\n",
       "      <td>-9</td>\n",
       "    </tr>\n",
       "    <tr>\n",
       "      <th>1</th>\n",
       "      <td>6991</td>\n",
       "      <td>2024</td>\n",
       "      <td>31</td>\n",
       "      <td>46</td>\n",
       "      <td>90</td>\n",
       "      <td>0.511111</td>\n",
       "      <td>129</td>\n",
       "      <td>32</td>\n",
       "      <td>52</td>\n",
       "      <td>0.615385</td>\n",
       "      <td>...</td>\n",
       "      <td>70.7</td>\n",
       "      <td>51.2</td>\n",
       "      <td>58.7</td>\n",
       "      <td>8.1</td>\n",
       "      <td>3.1</td>\n",
       "      <td>11.3</td>\n",
       "      <td>100</td>\n",
       "      <td>130.5</td>\n",
       "      <td>121.4</td>\n",
       "      <td>9</td>\n",
       "    </tr>\n",
       "    <tr>\n",
       "      <th>2</th>\n",
       "      <td>6990</td>\n",
       "      <td>2023</td>\n",
       "      <td>31</td>\n",
       "      <td>39</td>\n",
       "      <td>87</td>\n",
       "      <td>0.448276</td>\n",
       "      <td>116</td>\n",
       "      <td>28</td>\n",
       "      <td>48</td>\n",
       "      <td>0.583333</td>\n",
       "      <td>...</td>\n",
       "      <td>68.6</td>\n",
       "      <td>49.4</td>\n",
       "      <td>66.7</td>\n",
       "      <td>5.2</td>\n",
       "      <td>14.3</td>\n",
       "      <td>10.4</td>\n",
       "      <td>100</td>\n",
       "      <td>120.7</td>\n",
       "      <td>142.6</td>\n",
       "      <td>-21</td>\n",
       "    </tr>\n",
       "    <tr>\n",
       "      <th>3</th>\n",
       "      <td>6989</td>\n",
       "      <td>2023</td>\n",
       "      <td>17</td>\n",
       "      <td>46</td>\n",
       "      <td>87</td>\n",
       "      <td>0.528736</td>\n",
       "      <td>137</td>\n",
       "      <td>22</td>\n",
       "      <td>42</td>\n",
       "      <td>0.523810</td>\n",
       "      <td>...</td>\n",
       "      <td>65.2</td>\n",
       "      <td>50.6</td>\n",
       "      <td>58.7</td>\n",
       "      <td>6.2</td>\n",
       "      <td>6.3</td>\n",
       "      <td>9.9</td>\n",
       "      <td>100</td>\n",
       "      <td>142.6</td>\n",
       "      <td>120.7</td>\n",
       "      <td>21</td>\n",
       "    </tr>\n",
       "    <tr>\n",
       "      <th>4</th>\n",
       "      <td>6988</td>\n",
       "      <td>2022</td>\n",
       "      <td>31</td>\n",
       "      <td>40</td>\n",
       "      <td>83</td>\n",
       "      <td>0.481928</td>\n",
       "      <td>118</td>\n",
       "      <td>24</td>\n",
       "      <td>50</td>\n",
       "      <td>0.480000</td>\n",
       "      <td>...</td>\n",
       "      <td>78.3</td>\n",
       "      <td>54.3</td>\n",
       "      <td>72.5</td>\n",
       "      <td>8.0</td>\n",
       "      <td>8.7</td>\n",
       "      <td>16.1</td>\n",
       "      <td>100</td>\n",
       "      <td>117.7</td>\n",
       "      <td>112.7</td>\n",
       "      <td>5</td>\n",
       "    </tr>\n",
       "  </tbody>\n",
       "</table>\n",
       "<p>5 rows × 47 columns</p>\n",
       "</div>"
      ],
      "text/plain": [
       "     id  match_id  team_id  FG  FGA       FGP  PTS  TWO  TWOA      TWOP  \\\n",
       "0  6992      2024       17  47   88  0.534091  120   36    64  0.562500   \n",
       "1  6991      2024       31  46   90  0.511111  129   32    52  0.615385   \n",
       "2  6990      2023       31  39   87  0.448276  116   28    48  0.583333   \n",
       "3  6989      2023       17  46   87  0.528736  137   22    42  0.523810   \n",
       "4  6988      2022       31  40   83  0.481928  118   24    50  0.480000   \n",
       "\n",
       "      ...      DRBP  TRBP  ASTP  STLP  BLKP  TOVP  USGP   ORtg   DRtg  \\\n",
       "0     ...      68.3  48.8  46.8   6.1   9.6  12.5   100  121.4  130.5   \n",
       "1     ...      70.7  51.2  58.7   8.1   3.1  11.3   100  130.5  121.4   \n",
       "2     ...      68.6  49.4  66.7   5.2  14.3  10.4   100  120.7  142.6   \n",
       "3     ...      65.2  50.6  58.7   6.2   6.3   9.9   100  142.6  120.7   \n",
       "4     ...      78.3  54.3  72.5   8.0   8.7  16.1   100  117.7  112.7   \n",
       "\n",
       "   PLUS_MINUS  \n",
       "0          -9  \n",
       "1           9  \n",
       "2         -21  \n",
       "3          21  \n",
       "4           5  \n",
       "\n",
       "[5 rows x 47 columns]"
      ]
     },
     "execution_count": 4,
     "metadata": {},
     "output_type": "execute_result"
    }
   ],
   "source": [
    "df.head()"
   ]
  },
  {
   "cell_type": "code",
   "execution_count": 5,
   "metadata": {},
   "outputs": [
    {
     "name": "stdout",
     "output_type": "stream",
     "text": [
      "<class 'pandas.core.frame.DataFrame'>\n",
      "RangeIndex: 1482 entries, 0 to 1481\n",
      "Data columns (total 47 columns):\n",
      "id            1482 non-null int64\n",
      "match_id      1482 non-null int64\n",
      "team_id       1482 non-null int64\n",
      "FG            1482 non-null int64\n",
      "FGA           1482 non-null int64\n",
      "FGP           1482 non-null float64\n",
      "PTS           1482 non-null int64\n",
      "TWO           1482 non-null int64\n",
      "TWOA          1482 non-null int64\n",
      "TWOP          1482 non-null float64\n",
      "TWOAr         1482 non-null float64\n",
      "THR           1482 non-null int64\n",
      "THRA          1482 non-null int64\n",
      "THRP          1482 non-null float64\n",
      "THRAr         1482 non-null float64\n",
      "FT            1482 non-null int64\n",
      "FTA           1482 non-null int64\n",
      "FTP           1482 non-null float64\n",
      "FTAr          1482 non-null float64\n",
      "FT_to_FGA     1482 non-null float64\n",
      "EFGP          1482 non-null float64\n",
      "TSA           1482 non-null float64\n",
      "TSP           1482 non-null float64\n",
      "FIC           1482 non-null float64\n",
      "ORB           1482 non-null int64\n",
      "ORBr          1482 non-null float64\n",
      "DRB           1482 non-null int64\n",
      "DRBr          1482 non-null float64\n",
      "TRB           1482 non-null int64\n",
      "AST           1482 non-null int64\n",
      "AST_to_TOV    1482 non-null float64\n",
      "STL           1482 non-null int64\n",
      "STL_to_TOV    1482 non-null float64\n",
      "BLK           1482 non-null int64\n",
      "TOV           1482 non-null int64\n",
      "PF            1482 non-null int64\n",
      "ORBP          1482 non-null float64\n",
      "DRBP          1482 non-null float64\n",
      "TRBP          1482 non-null float64\n",
      "ASTP          1482 non-null float64\n",
      "STLP          1482 non-null float64\n",
      "BLKP          1482 non-null float64\n",
      "TOVP          1482 non-null float64\n",
      "USGP          1482 non-null int64\n",
      "ORtg          1482 non-null float64\n",
      "DRtg          1482 non-null float64\n",
      "PLUS_MINUS    1482 non-null int64\n",
      "dtypes: float64(25), int64(22)\n",
      "memory usage: 544.2 KB\n"
     ]
    }
   ],
   "source": [
    "df.info()"
   ]
  },
  {
   "cell_type": "code",
   "execution_count": 6,
   "metadata": {},
   "outputs": [
    {
     "data": {
      "text/html": [
       "<div>\n",
       "<style>\n",
       "    .dataframe thead tr:only-child th {\n",
       "        text-align: right;\n",
       "    }\n",
       "\n",
       "    .dataframe thead th {\n",
       "        text-align: left;\n",
       "    }\n",
       "\n",
       "    .dataframe tbody tr th {\n",
       "        vertical-align: top;\n",
       "    }\n",
       "</style>\n",
       "<table border=\"1\" class=\"dataframe\">\n",
       "  <thead>\n",
       "    <tr style=\"text-align: right;\">\n",
       "      <th></th>\n",
       "      <th>id</th>\n",
       "      <th>match_id</th>\n",
       "      <th>team_id</th>\n",
       "      <th>FG</th>\n",
       "      <th>FGA</th>\n",
       "      <th>FGP</th>\n",
       "      <th>PTS</th>\n",
       "      <th>TWO</th>\n",
       "      <th>TWOA</th>\n",
       "      <th>TWOP</th>\n",
       "      <th>...</th>\n",
       "      <th>DRBP</th>\n",
       "      <th>TRBP</th>\n",
       "      <th>ASTP</th>\n",
       "      <th>STLP</th>\n",
       "      <th>BLKP</th>\n",
       "      <th>TOVP</th>\n",
       "      <th>USGP</th>\n",
       "      <th>ORtg</th>\n",
       "      <th>DRtg</th>\n",
       "      <th>PLUS_MINUS</th>\n",
       "    </tr>\n",
       "  </thead>\n",
       "  <tbody>\n",
       "    <tr>\n",
       "      <th>count</th>\n",
       "      <td>1482.000000</td>\n",
       "      <td>1482.000000</td>\n",
       "      <td>1482.000000</td>\n",
       "      <td>1482.000000</td>\n",
       "      <td>1482.000000</td>\n",
       "      <td>1482.000000</td>\n",
       "      <td>1482.000000</td>\n",
       "      <td>1482.000000</td>\n",
       "      <td>1482.000000</td>\n",
       "      <td>1482.000000</td>\n",
       "      <td>...</td>\n",
       "      <td>1482.000000</td>\n",
       "      <td>1482.000000</td>\n",
       "      <td>1482.000000</td>\n",
       "      <td>1482.000000</td>\n",
       "      <td>1482.000000</td>\n",
       "      <td>1482.000000</td>\n",
       "      <td>1482.0</td>\n",
       "      <td>1482.000000</td>\n",
       "      <td>1482.000000</td>\n",
       "      <td>1482.000000</td>\n",
       "    </tr>\n",
       "    <tr>\n",
       "      <th>mean</th>\n",
       "      <td>6251.500000</td>\n",
       "      <td>1654.000000</td>\n",
       "      <td>23.408907</td>\n",
       "      <td>39.161269</td>\n",
       "      <td>85.480432</td>\n",
       "      <td>0.459061</td>\n",
       "      <td>106.080297</td>\n",
       "      <td>29.416329</td>\n",
       "      <td>58.193657</td>\n",
       "      <td>0.507795</td>\n",
       "      <td>...</td>\n",
       "      <td>76.953509</td>\n",
       "      <td>50.001147</td>\n",
       "      <td>58.159109</td>\n",
       "      <td>8.049663</td>\n",
       "      <td>8.160931</td>\n",
       "      <td>12.321525</td>\n",
       "      <td>100.0</td>\n",
       "      <td>109.758637</td>\n",
       "      <td>109.758637</td>\n",
       "      <td>0.000000</td>\n",
       "    </tr>\n",
       "    <tr>\n",
       "      <th>std</th>\n",
       "      <td>427.960863</td>\n",
       "      <td>213.980285</td>\n",
       "      <td>8.901221</td>\n",
       "      <td>5.012776</td>\n",
       "      <td>7.150827</td>\n",
       "      <td>0.053594</td>\n",
       "      <td>12.161124</td>\n",
       "      <td>5.156178</td>\n",
       "      <td>8.635285</td>\n",
       "      <td>0.068056</td>\n",
       "      <td>...</td>\n",
       "      <td>7.343181</td>\n",
       "      <td>5.232210</td>\n",
       "      <td>10.109315</td>\n",
       "      <td>2.911697</td>\n",
       "      <td>4.191323</td>\n",
       "      <td>3.297631</td>\n",
       "      <td>0.0</td>\n",
       "      <td>11.307725</td>\n",
       "      <td>11.307725</td>\n",
       "      <td>14.374794</td>\n",
       "    </tr>\n",
       "    <tr>\n",
       "      <th>min</th>\n",
       "      <td>5511.000000</td>\n",
       "      <td>1284.000000</td>\n",
       "      <td>7.000000</td>\n",
       "      <td>22.000000</td>\n",
       "      <td>61.000000</td>\n",
       "      <td>0.285714</td>\n",
       "      <td>68.000000</td>\n",
       "      <td>9.000000</td>\n",
       "      <td>31.000000</td>\n",
       "      <td>0.243243</td>\n",
       "      <td>...</td>\n",
       "      <td>51.300000</td>\n",
       "      <td>33.800000</td>\n",
       "      <td>21.200000</td>\n",
       "      <td>0.000000</td>\n",
       "      <td>0.000000</td>\n",
       "      <td>3.400000</td>\n",
       "      <td>100.0</td>\n",
       "      <td>71.800000</td>\n",
       "      <td>71.800000</td>\n",
       "      <td>-47.000000</td>\n",
       "    </tr>\n",
       "    <tr>\n",
       "      <th>25%</th>\n",
       "      <td>5881.250000</td>\n",
       "      <td>1469.000000</td>\n",
       "      <td>16.000000</td>\n",
       "      <td>36.000000</td>\n",
       "      <td>81.000000</td>\n",
       "      <td>0.421687</td>\n",
       "      <td>98.000000</td>\n",
       "      <td>26.000000</td>\n",
       "      <td>52.000000</td>\n",
       "      <td>0.461538</td>\n",
       "      <td>...</td>\n",
       "      <td>72.200000</td>\n",
       "      <td>46.425000</td>\n",
       "      <td>51.400000</td>\n",
       "      <td>6.100000</td>\n",
       "      <td>5.400000</td>\n",
       "      <td>10.000000</td>\n",
       "      <td>100.0</td>\n",
       "      <td>102.225000</td>\n",
       "      <td>102.225000</td>\n",
       "      <td>-10.000000</td>\n",
       "    </tr>\n",
       "    <tr>\n",
       "      <th>50%</th>\n",
       "      <td>6251.500000</td>\n",
       "      <td>1654.000000</td>\n",
       "      <td>24.000000</td>\n",
       "      <td>39.000000</td>\n",
       "      <td>85.000000</td>\n",
       "      <td>0.455696</td>\n",
       "      <td>106.000000</td>\n",
       "      <td>29.000000</td>\n",
       "      <td>58.000000</td>\n",
       "      <td>0.507692</td>\n",
       "      <td>...</td>\n",
       "      <td>77.100000</td>\n",
       "      <td>50.000000</td>\n",
       "      <td>58.300000</td>\n",
       "      <td>7.900000</td>\n",
       "      <td>7.700000</td>\n",
       "      <td>12.100000</td>\n",
       "      <td>100.0</td>\n",
       "      <td>109.600000</td>\n",
       "      <td>109.600000</td>\n",
       "      <td>0.000000</td>\n",
       "    </tr>\n",
       "    <tr>\n",
       "      <th>75%</th>\n",
       "      <td>6621.750000</td>\n",
       "      <td>1839.000000</td>\n",
       "      <td>31.000000</td>\n",
       "      <td>43.000000</td>\n",
       "      <td>90.000000</td>\n",
       "      <td>0.494709</td>\n",
       "      <td>114.000000</td>\n",
       "      <td>33.000000</td>\n",
       "      <td>64.000000</td>\n",
       "      <td>0.550000</td>\n",
       "      <td>...</td>\n",
       "      <td>82.200000</td>\n",
       "      <td>53.575000</td>\n",
       "      <td>65.000000</td>\n",
       "      <td>9.800000</td>\n",
       "      <td>10.500000</td>\n",
       "      <td>14.600000</td>\n",
       "      <td>100.0</td>\n",
       "      <td>117.400000</td>\n",
       "      <td>117.400000</td>\n",
       "      <td>10.000000</td>\n",
       "    </tr>\n",
       "    <tr>\n",
       "      <th>max</th>\n",
       "      <td>6992.000000</td>\n",
       "      <td>2024.000000</td>\n",
       "      <td>38.000000</td>\n",
       "      <td>57.000000</td>\n",
       "      <td>128.000000</td>\n",
       "      <td>0.632911</td>\n",
       "      <td>144.000000</td>\n",
       "      <td>47.000000</td>\n",
       "      <td>88.000000</td>\n",
       "      <td>0.800000</td>\n",
       "      <td>...</td>\n",
       "      <td>98.000000</td>\n",
       "      <td>66.200000</td>\n",
       "      <td>91.100000</td>\n",
       "      <td>19.000000</td>\n",
       "      <td>26.200000</td>\n",
       "      <td>23.800000</td>\n",
       "      <td>100.0</td>\n",
       "      <td>147.200000</td>\n",
       "      <td>147.200000</td>\n",
       "      <td>47.000000</td>\n",
       "    </tr>\n",
       "  </tbody>\n",
       "</table>\n",
       "<p>8 rows × 47 columns</p>\n",
       "</div>"
      ],
      "text/plain": [
       "                id     match_id      team_id           FG          FGA  \\\n",
       "count  1482.000000  1482.000000  1482.000000  1482.000000  1482.000000   \n",
       "mean   6251.500000  1654.000000    23.408907    39.161269    85.480432   \n",
       "std     427.960863   213.980285     8.901221     5.012776     7.150827   \n",
       "min    5511.000000  1284.000000     7.000000    22.000000    61.000000   \n",
       "25%    5881.250000  1469.000000    16.000000    36.000000    81.000000   \n",
       "50%    6251.500000  1654.000000    24.000000    39.000000    85.000000   \n",
       "75%    6621.750000  1839.000000    31.000000    43.000000    90.000000   \n",
       "max    6992.000000  2024.000000    38.000000    57.000000   128.000000   \n",
       "\n",
       "               FGP          PTS          TWO         TWOA         TWOP  \\\n",
       "count  1482.000000  1482.000000  1482.000000  1482.000000  1482.000000   \n",
       "mean      0.459061   106.080297    29.416329    58.193657     0.507795   \n",
       "std       0.053594    12.161124     5.156178     8.635285     0.068056   \n",
       "min       0.285714    68.000000     9.000000    31.000000     0.243243   \n",
       "25%       0.421687    98.000000    26.000000    52.000000     0.461538   \n",
       "50%       0.455696   106.000000    29.000000    58.000000     0.507692   \n",
       "75%       0.494709   114.000000    33.000000    64.000000     0.550000   \n",
       "max       0.632911   144.000000    47.000000    88.000000     0.800000   \n",
       "\n",
       "          ...              DRBP         TRBP         ASTP         STLP  \\\n",
       "count     ...       1482.000000  1482.000000  1482.000000  1482.000000   \n",
       "mean      ...         76.953509    50.001147    58.159109     8.049663   \n",
       "std       ...          7.343181     5.232210    10.109315     2.911697   \n",
       "min       ...         51.300000    33.800000    21.200000     0.000000   \n",
       "25%       ...         72.200000    46.425000    51.400000     6.100000   \n",
       "50%       ...         77.100000    50.000000    58.300000     7.900000   \n",
       "75%       ...         82.200000    53.575000    65.000000     9.800000   \n",
       "max       ...         98.000000    66.200000    91.100000    19.000000   \n",
       "\n",
       "              BLKP         TOVP    USGP         ORtg         DRtg   PLUS_MINUS  \n",
       "count  1482.000000  1482.000000  1482.0  1482.000000  1482.000000  1482.000000  \n",
       "mean      8.160931    12.321525   100.0   109.758637   109.758637     0.000000  \n",
       "std       4.191323     3.297631     0.0    11.307725    11.307725    14.374794  \n",
       "min       0.000000     3.400000   100.0    71.800000    71.800000   -47.000000  \n",
       "25%       5.400000    10.000000   100.0   102.225000   102.225000   -10.000000  \n",
       "50%       7.700000    12.100000   100.0   109.600000   109.600000     0.000000  \n",
       "75%      10.500000    14.600000   100.0   117.400000   117.400000    10.000000  \n",
       "max      26.200000    23.800000   100.0   147.200000   147.200000    47.000000  \n",
       "\n",
       "[8 rows x 47 columns]"
      ]
     },
     "execution_count": 6,
     "metadata": {},
     "output_type": "execute_result"
    }
   ],
   "source": [
    "df.describe()"
   ]
  },
  {
   "cell_type": "code",
   "execution_count": 8,
   "metadata": {
    "collapsed": true
   },
   "outputs": [],
   "source": [
    "a = df.groupby(['team_id']).mean() #get the average values for each team for the 2016-2017 season"
   ]
  },
  {
   "cell_type": "code",
   "execution_count": 12,
   "metadata": {},
   "outputs": [
    {
     "data": {
      "text/plain": [
       "<matplotlib.text.Text at 0x115afc110>"
      ]
     },
     "execution_count": 12,
     "metadata": {},
     "output_type": "execute_result"
    },
    {
     "data": {
      "image/png": "[encoded data removed]",
      "text/plain": [
       "<matplotlib.figure.Figure at 0x115a5a590>"
      ]
     },
     "metadata": {},
     "output_type": "display_data"
    }
   ],
   "source": [
    "plt.figure(figsize=(10,6))\n",
    "plt.hist(a[a['PLUS_MINUS'] >= 0]['FG'],bins=30,alpha=0.5,edgecolor='black')\n",
    "plt.hist(a[a['PLUS_MINUS'] < 0]['FG'],color='red',bins=30,alpha=0.5,edgecolor='black')\n",
    "plt.legend(['Overall positive season performance','Overall negative season performance'])\n",
    "plt.xlabel(\"FG's\")"
   ]
  },
  {
   "cell_type": "code",
   "execution_count": 13,
   "metadata": {
    "collapsed": true
   },
   "outputs": [],
   "source": [
    "a.to_csv('out.csv')"
   ]
  },
  {
   "cell_type": "code",
   "execution_count": 5,
   "metadata": {},
   "outputs": [
    {
     "data": {
      "text/plain": [
       "<matplotlib.text.Text at 0x111b13bd0>"
      ]
     },
     "execution_count": 5,
     "metadata": {},
     "output_type": "execute_result"
    },
    {
     "data": {
      "image/png": "[encoded data removed]",
      "text/plain": [
       "<matplotlib.figure.Figure at 0x1117e2510>"
      ]
     },
     "metadata": {},
     "output_type": "display_data"
    }
   ],
   "source": [
    "#team +/- for FGs\n",
    "plt.figure(figsize=(10,6))\n",
    "plt.hist(df[df['PLUS_MINUS'] >= 0]['FG'],bins=30,alpha=0.5,edgecolor='black')\n",
    "plt.hist(df[df['PLUS_MINUS'] < 0]['FG'],color='red',bins=30,alpha=0.5,edgecolor='black')\n",
    "plt.legend(['Overall positive game performance','Overall negative game performance'])\n",
    "plt.xlabel(\"FG's\")"
   ]
  },
  {
   "cell_type": "code",
   "execution_count": 11,
   "metadata": {
    "collapsed": true
   },
   "outputs": [],
   "source": [
    "dp = pd.read_csv('player_stats.csv')"
   ]
  },
  {
   "cell_type": "code",
   "execution_count": 26,
   "metadata": {},
   "outputs": [
    {
     "data": {
      "text/plain": [
       "<matplotlib.axes._subplots.AxesSubplot at 0x1a1bc57350>"
      ]
     },
     "execution_count": 26,
     "metadata": {},
     "output_type": "execute_result"
    },
    {
     "data": {
      "image/png": "[encoded data removed]",
      "text/plain": [
       "<matplotlib.figure.Figure at 0x1a1c008150>"
      ]
     },
     "metadata": {},
     "output_type": "display_data"
    }
   ],
   "source": [
    "a_dp = dp.groupby(['player_id']).mean();\n",
    "a_dp['PLUS_MINUS'].value_counts(bins = [-20,0,20]).plot(kind='bar')\n"
   ]
  },
  {
   "cell_type": "code",
   "execution_count": 4,
   "metadata": {},
   "outputs": [
    {
     "data": {
      "text/plain": [
       "<matplotlib.text.Text at 0x1178f06d0>"
      ]
     },
     "execution_count": 4,
     "metadata": {},
     "output_type": "execute_result"
    },
    {
     "data": {
      "image/png": "[encoded data removed]",
      "text/plain": [
       "<matplotlib.figure.Figure at 0x113f76e10>"
      ]
     },
     "metadata": {},
     "output_type": "display_data"
    }
   ],
   "source": [
    "#Player +/- for DRB's\n",
    "plt.figure(figsize=(10,6))\n",
    "plt.hist(dp[dp['PLUS_MINUS'] >= 0]['DRB'],bins=30,alpha=0.5,edgecolor='black')\n",
    "plt.hist(dp[dp['PLUS_MINUS'] < 0]['DRB'],color='red',bins=30,alpha=0.5,edgecolor='black')\n",
    "plt.legend(['Overall positive player impact','Overall negative player impact'])\n",
    "plt.xlabel(\"Defensive Rebounds\")"
   ]
  },
  {
   "cell_type": "code",
   "execution_count": 5,
   "metadata": {},
   "outputs": [
    {
     "data": {
      "text/plain": [
       "<matplotlib.text.Text at 0x117d19a10>"
      ]
     },
     "execution_count": 5,
     "metadata": {},
     "output_type": "execute_result"
    },
    {
     "data": {
      "image/png": "[encoded data removed]",
      "text/plain": [
       "<matplotlib.figure.Figure at 0x10ac0f310>"
      ]
     },
     "metadata": {},
     "output_type": "display_data"
    }
   ],
   "source": [
    "#Player +/- for FGs\n",
    "plt.figure(figsize=(10,6))\n",
    "plt.hist(dp[dp['PLUS_MINUS'] >= 0]['FG'],bins=30,alpha=0.5,edgecolor='black')\n",
    "plt.hist(dp[dp['PLUS_MINUS'] < 0]['FG'],color='red',bins=30,alpha=0.5,edgecolor='black')\n",
    "plt.legend(['Overall positive player impact','Overall negative player impact'])\n",
    "plt.xlabel(\"FG's\")"
   ]
  },
  {
   "cell_type": "code",
   "execution_count": 8,
   "metadata": {},
   "outputs": [
    {
     "data": {
      "text/plain": [
       "<matplotlib.text.Text at 0x117b78610>"
      ]
     },
     "execution_count": 8,
     "metadata": {},
     "output_type": "execute_result"
    },
    {
     "data": {
      "image/png": "[encoded data removed]",
      "text/plain": [
       "<matplotlib.figure.Figure at 0x117a40c50>"
      ]
     },
     "metadata": {},
     "output_type": "display_data"
    }
   ],
   "source": [
    "dps = pd.read_csv('playerStats-playerInfo.csv')\n",
    "\n",
    "plt.hist(dps[dps['PLUS_MINUS'] >= 0]['experience'],bins=30,alpha=0.5,edgecolor='black')\n",
    "plt.hist(dps[dps['PLUS_MINUS'] < 0]['experience'],color='red',bins=30,alpha=0.5,edgecolor='black')\n",
    "plt.legend(['Overall positive player impact','Overall negative player impact'])\n",
    "plt.xlabel(\"Experience level\")"
   ]
  },
  {
   "cell_type": "code",
   "execution_count": 10,
   "metadata": {},
   "outputs": [
    {
     "data": {
      "text/plain": [
       "<seaborn.axisgrid.JointGrid at 0x1a1a8400d0>"
      ]
     },
     "execution_count": 10,
     "metadata": {},
     "output_type": "execute_result"
    },
    {
     "data": {
      "image/png": "[encoded data removed]",
      "text/plain": [
       "<matplotlib.figure.Figure at 0x1a1a840110>"
      ]
     },
     "metadata": {},
     "output_type": "display_data"
    }
   ],
   "source": [
    "sns.countplot('PLUS_MINUS','experience',data=dps,color='purple',size=8,ratio=3,space=0.4)"
   ]
  },
  {
   "cell_type": "code",
   "execution_count": null,
   "metadata": {
    "collapsed": true
   },
   "outputs": [],
   "source": []
  }
 ],
 "metadata": {
  "kernelspec": {
   "display_name": "Python 2",
   "language": "python",
   "name": "python2"
  },
  "language_info": {
   "codemirror_mode": {
    "name": "ipython",
    "version": 2
   },
   "file_extension": ".py",
   "mimetype": "text/x-python",
   "name": "python",
   "nbconvert_exporter": "python",
   "pygments_lexer": "ipython2",
   "version": "2.7.13"
  }
 },
 "nbformat": 4,
 "nbformat_minor": 2
}
