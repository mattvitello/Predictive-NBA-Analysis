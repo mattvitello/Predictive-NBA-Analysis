{
 "cells": [
  {
   "cell_type": "code",
   "execution_count": 39,
   "metadata": {
    "collapsed": true
   },
   "outputs": [],
   "source": [
    "#create players     \n",
    "class Player:\n",
    "    def __init__(self,name,plus_minus,at_home,ortg,fic,tsp,efgp,fgp,drtg):\n",
    "        self.name = name\n",
    "        self.plus_minus = plus_minus\n",
    "        self.at_home = at_home\n",
    "        self.ortg = ortg\n",
    "        self.fic = fic\n",
    "        self.tsp = tsp\n",
    "        self.efgp = efgp\n",
    "        self.fgp = fgp\n",
    "        self.drtg = drtg"
   ]
  },
  {
   "cell_type": "code",
   "execution_count": 40,
   "metadata": {
    "collapsed": true
   },
   "outputs": [],
   "source": [
    "#create teams\n",
    "class Team:\n",
    "    def __init__(self,name,players,plus_minus,fic,ortg,tsp,efgp,pts,fgp,fg,trbp,drb,twop,ast,thrp,ast_to_tov,thr,trb,two,orbr,drtg):\n",
    "        self.name = name\n",
    "        self.players = players\n",
    "        self.plus_minus = plus_minus\n",
    "        self.fic = fic\n",
    "        self.ortg = ortg\n",
    "        self.tsp = tsp\n",
    "        self.efgp = efgp\n",
    "        self.pts = pts\n",
    "        self.fgp = fgp\n",
    "        self.fg = fg\n",
    "        self.trbp = trbp\n",
    "        self.drb = drb\n",
    "        self.twop = twop\n",
    "        self.ast = ast\n",
    "        self.thrp = thrp\n",
    "        self.ast_to_tov = ast_to_tov\n",
    "        self.thr = thr\n",
    "        self.trb = trb\n",
    "        self.two = two\n",
    "        self.orbr = orbr\n",
    "        self.drtg = drtg\n",
    "    \n",
    "    def addPlayer(self,name1,plus_minus1,at_home1,ortg1,fic1,tsp1,efgp1,fgp1,drtg1):\n",
    "        self.players.append(Player(name1,plus_minus1,at_home1,ortg1,fic1,tsp1,efgp1,fgp1,drtg1))\n",
    "\n",
    "        \n",
    "#almost too much data to look at that if we truly wanted the best solution we would have to play with a crazy amount of different variables to determine what works best \n"
   ]
  },
  {
   "cell_type": "code",
   "execution_count": 54,
   "metadata": {},
   "outputs": [],
   "source": [
    "#run game\n",
    "class Game:\n",
    "    def __init__(self, teams):\n",
    "        self.teams = teams\n",
    "    \n",
    "    def predict(self):\n",
    "        \n",
    "        team1 = self.teams[0];\n",
    "        team2 = self.teams[1];\n",
    "        \n",
    "        #team weights\n",
    "        team1_weight = (team1.plus_minus*0.8126) + (team1.ortg*0.5251975) + (team1.fic*0.6243) + (team1.tsp*0.4928) + (team1.efgp*0.4734) + (team1.pts*0.4699) + (team1.fgp*0.4588) + (team1.fg*0.3987) + (team1.trbp*0.3621) + (team1.drb*0.3477) + (team1.twop*0.3432) + (team1.ast*0.3293) + (team1.thrp*0.3227) + (team1.ast_to_tov*0.2600) + (team1.thr*0.2535) + (team1.trb*0.2533) + (team1.two*0.2147) - (team1.orbr*0.1797) - (team1.drtg*0.5252)      \n",
    "        team2_weight = (team2.plus_minus*0.8126) + (team2.ortg*0.5251975) + (team2.fic*0.6243) + (team2.tsp*0.4928) + (team2.efgp*0.4734) + (team2.pts*0.4699) + (team2.fgp*0.4588) + (team2.fg*0.3987) + (team2.trbp*0.3621) + (team2.drb*0.3477) + (team2.twop*0.3432) + (team2.ast*0.3293) + (team2.thrp*0.3227) + (team2.ast_to_tov*0.2600) + (team2.thr*0.2535) + (team2.trb*0.2533) + (team2.two*0.2147) - (team2.orbr*0.1797) - (team2.drtg*0.5252) \n",
    "        \n",
    "        #team1 player weights\n",
    "        t1_player_weight = 0\n",
    "        for i in range(0,len(team1.players)):\n",
    "            p = team1.players[i]\n",
    "            t1_player_weight += ((p.plus_minus*0.53718) + (p.at_home*0.170871) + (p.ortg*0.16657) + (p.fic*0.166349) + (p.tsp*0.12981) + (p.efgp*0.127248) + (p.fgp*0.116451) - (p.drtg*0.477716))\n",
    "    \n",
    "        #team2 player weights\n",
    "        t2_player_weight = 0\n",
    "        for i in range(0,len(team2.players)):\n",
    "            p = team2.players[i]\n",
    "            t2_player_weight += ((p.plus_minus*0.53718) + (p.at_home*0.170871) + (p.ortg*0.16657) + (p.fic*0.166349) + (p.tsp*0.12981) + (p.efgp*0.127248) + (p.fgp*0.116451) - (p.drtg*0.477716))\n",
    "        \n",
    "        total_t1 = 0\n",
    "        total_t2 = 0\n",
    "        \n",
    "        if team1_weight > team2_weight:\n",
    "            total_t1 = team1_weight - team2_weight\n",
    "        else:\n",
    "            total_t2 = team2_weight - team1_weight\n",
    "    \n",
    "        \n",
    "        if t1_player_weight > t2_player_weight:\n",
    "            total_t1 += t1_player_weight - t2_player_weight   \n",
    "        else:\n",
    "            total_t2 += t2_player_weight - t1_player_weight\n",
    "\n",
    "        \n",
    "        if total_t1 > total_t2:\n",
    "            print(\"Winner: \" + team1.name)\n",
    "        \n",
    "        elif total_t1 == total_t2:\n",
    "            print(\"Draw\")\n",
    "            \n",
    "        else:\n",
    "            print(\"Winner: \" + team2.name)\n",
    "            \n",
    "            "
   ]
  },
  {
   "cell_type": "code",
   "execution_count": 55,
   "metadata": {},
   "outputs": [
    {
     "name": "stdout",
     "output_type": "stream",
     "text": [
      "Winner: Denver Nuggets\n"
     ]
    }
   ],
   "source": [
    "#input teams and their stats\n",
    "TeamA = Team('Denver Nuggets', [], -2.3694581280788177, 76.7678571428571429, 107.6679802955665025, 0.53637655812005788158, 0.49694981019362001113, 104.1773399014778325, 0.44778286937228993552, 38.7142857142857143, 51.1211822660098522, 32.9950738916256158, 0.49302657916574370448, 22.9261083743842365, 0.33911996819938286261, 1.7706741022444709, 8.4827586206896552, 44.8620689655172414, 30.2315270935960591, 0.26196149624782378158, 110.1098522167487685)\n",
    "TeamB = Team('Philadelphia 76ers', [], -9.4970760233918129, 66.9824561403508772, 97.9748538011695906, 0.50692488757771181825, 0.47343763020488141947, 94.9298245614035088, 0.42026791936758323749, 35.0818713450292398, 47.356140350877193, 31.5555555555555556, 0.46377406126300756392, 21.1637426900584795, 0.32388078972411656456, 1.4360049274495721, 8.8771929824561404, 42.1871345029239766, 26.2046783625730994, 0.25085287484872245865, 107.7795321637426901)\n",
    "\n",
    "#input players for each team\n",
    "TeamB.addPlayer('Jarnell Stokes',1.12,0,96.68,1.88,0.58337095378893783533,0.56007326007326006923,0.56007326007326006923,106.24)\n",
    "TeamA.addPlayer('Sergio Rodriguez',-5.9285714285714286,1,78.5,5.9107142857142857,0.35291239363422740643,0.35217778253492537857,0.30920210741639311286,107.7142857142857143)\n",
    "\n",
    "teams = [TeamA, TeamB]\n",
    "gg = Game(teams)\n",
    "gg.predict()"
   ]
  },
  {
   "cell_type": "code",
   "execution_count": null,
   "metadata": {
    "collapsed": true
   },
   "outputs": [],
   "source": []
  }
 ],
 "metadata": {
  "kernelspec": {
   "display_name": "Python 2",
   "language": "python",
   "name": "python2"
  },
  "language_info": {
   "codemirror_mode": {
    "name": "ipython",
    "version": 2
   },
   "file_extension": ".py",
   "mimetype": "text/x-python",
   "name": "python",
   "nbconvert_exporter": "python",
   "pygments_lexer": "ipython2",
   "version": "2.7.13"
  }
 },
 "nbformat": 4,
 "nbformat_minor": 2
}
